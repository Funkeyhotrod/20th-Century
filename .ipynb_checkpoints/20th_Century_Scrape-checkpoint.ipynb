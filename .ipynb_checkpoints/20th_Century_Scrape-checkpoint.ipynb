{
 "cells": [
  {
   "cell_type": "code",
   "execution_count": 6,
   "id": "a2a846d0-386c-4a75-a570-63cba8d74887",
   "metadata": {},
   "outputs": [],
   "source": [
    "# Imprting Libraries\n",
    "import requests\n",
    "from bs4 import BeautifulSoup"
   ]
  },
  {
   "cell_type": "code",
   "execution_count": 9,
   "id": "62275818-2b4b-4df1-a714-34188757140c",
   "metadata": {},
   "outputs": [],
   "source": [
    "# Getting the URL\n",
    "page = requests.get('https://en.wikipedia.org/wiki/Key_events_of_the_20th_century')"
   ]
  },
  {
   "cell_type": "code",
   "execution_count": 13,
   "id": "2e3dfbe5-dc64-4466-98c9-c42474224765",
   "metadata": {},
   "outputs": [],
   "source": [
    "# Making soup\n",
    "soup = BeautifulSoup(page.text, 'html.parser')"
   ]
  },
  {
   "cell_type": "code",
   "execution_count": 15,
   "id": "2b396ae6-a4e5-42cb-bad9-30036016a115",
   "metadata": {},
   "outputs": [
    {
     "name": "stdout",
     "output_type": "stream",
     "text": [
      "<title>Key events of the 20th century - Wikipedia</title>\n"
     ]
    }
   ],
   "source": [
    "print(soup.title)"
   ]
  },
  {
   "cell_type": "code",
   "execution_count": 18,
   "id": "01ce49a7-3df8-4c16-bff9-67fad4cac011",
   "metadata": {},
   "outputs": [],
   "source": [
    "# Exporting txt file\n",
    "text = soup.get_text()"
   ]
  },
  {
   "cell_type": "code",
   "execution_count": 20,
   "id": "ad16ec6a-20a8-45f9-baaf-40ce83e62a83",
   "metadata": {},
   "outputs": [],
   "source": [
    "text = text.encode('utf-8')"
   ]
  },
  {
   "cell_type": "code",
   "execution_count": 23,
   "id": "52c37898-9c95-421a-ba81-2a3334bb0f78",
   "metadata": {},
   "outputs": [],
   "source": [
    "with open('Key_Events_20th_Century_Wiki.txt', 'wb') as f: \n",
    "    f.write(text)"
   ]
  },
  {
   "cell_type": "code",
   "execution_count": null,
   "id": "da5ff4de-7dd4-484d-8df1-70c1eeac6b11",
   "metadata": {},
   "outputs": [],
   "source": []
  }
 ],
 "metadata": {
  "kernelspec": {
   "display_name": "Python [conda env:base] *",
   "language": "python",
   "name": "conda-base-py"
  },
  "language_info": {
   "codemirror_mode": {
    "name": "ipython",
    "version": 3
   },
   "file_extension": ".py",
   "mimetype": "text/x-python",
   "name": "python",
   "nbconvert_exporter": "python",
   "pygments_lexer": "ipython3",
   "version": "3.12.3"
  }
 },
 "nbformat": 4,
 "nbformat_minor": 5
}
